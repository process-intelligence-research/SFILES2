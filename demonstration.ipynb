{
 "cells": [
  {
   "cell_type": "markdown",
   "metadata": {},
   "source": [
    "# Demonstration of SFILES 2.0 <-> flowsheet graph conversion"
   ]
  },
  {
   "cell_type": "markdown",
   "metadata": {},
   "source": [
    "### Example 1"
   ]
  },
  {
   "cell_type": "code",
   "execution_count": null,
   "metadata": {},
   "outputs": [],
   "source": [
    "from IPython.display import Image\n",
    "Image(filename='examples/Flowsheet_theory-1.png') "
   ]
  },
  {
   "cell_type": "markdown",
   "metadata": {},
   "source": [
    "How to create graph: \n",
    "- add all unit operations as nodes with numbered name (refer to standardized names in paper)\n",
    "- add all stream connections as edges. ('labels' is optional, 'tags' should be used as described in paper).   \n",
    "Format:  ('node-1', 'node-2', {'labels': 'streamlabel', 'tags':{'col': [<'tout','tin','bout','bin'>], 'he': [<'x_in','x_out'>]}})"
   ]
  },
  {
   "cell_type": "code",
   "execution_count": null,
   "metadata": {},
   "outputs": [],
   "source": [
    "# How the graph should look like in theory\n",
    "Image(filename='examples/graph_theory-1.png') "
   ]
  },
  {
   "cell_type": "code",
   "execution_count": null,
   "metadata": {},
   "outputs": [],
   "source": [
    "# How to construct graph with code \n",
    "import networkx as nx\n",
    "G = nx.DiGraph()\n",
    "G.add_nodes_from([\n",
    "    'raw-1', 'raw-2', 'hex-1', 'pp-1', 'r-1', 'mix-1', 'v-1', \n",
    "    'dist-1', 'splt-1', 'prod-1', 'prod-2', 'prod-3', 'raw-3'\n",
    "    ])\n",
    "G.add_edges_from([\n",
    "    ('raw-1', 'hex-1',{'labels': '', 'tags':{'he': ['1_in']}}),\n",
    "    ('hex-1', 'r-1', {'labels': '', 'tags':{'he': ['1_out']}}), \n",
    "    ('raw-2', 'pp-1'), ('pp-1', 'r-1'), ('r-1', 'mix-1'), ('mix-1', 'v-1'), ('v-1', 'dist-1'),\n",
    "    ('dist-1', 'prod-1', {'tags':{'col': ['tout']}}),\n",
    "    ('dist-1', 'splt-1', {'tags':{'col': ['bout']}}), \n",
    "    ('splt-1','mix-1'), ('splt-1', 'prod-2'), \n",
    "    ('raw-3', 'hex-1',{'labels': '', 'tags':{'he': ['2_in']}}), \n",
    "    ('hex-1', 'prod-3',{'labels': '', 'tags':{'he': ['2_out']}})\n",
    "    ])"
   ]
  },
  {
   "cell_type": "code",
   "execution_count": null,
   "metadata": {},
   "outputs": [],
   "source": [
    "# Save graph as flowsheet class object\n",
    "from Flowsheet_Class.flowsheet import Flowsheet\n",
    "flowsheet_1=Flowsheet()\n",
    "flowsheet_1.state=G\n",
    "flowsheet_1.visualize_flowsheet(table=False, pfd_path='plots/flowsheet1', plot_with_stream_labels=False)\n"
   ]
  },
  {
   "cell_type": "code",
   "execution_count": null,
   "metadata": {},
   "outputs": [],
   "source": [
    "# Create SFILES from graph using the flowsheet class\n",
    "flowsheet_1.convert_to_sfiles(version='v2')\n",
    "sfiles_1 = flowsheet_1.sfiles\n",
    "print(sfiles_1)\n",
    "flowsheet_1.create_from_sfiles(sfiles_1, override_nx=True)\n",
    "flowsheet_1.convert_to_sfiles(version='v2')\n",
    "sfiles_2 = flowsheet_1.sfiles\n",
    "print(sfiles_1==sfiles_2)"
   ]
  },
  {
   "cell_type": "markdown",
   "metadata": {},
   "source": [
    "# Real flowsheet examples (extracted from DWSIM simulation files)"
   ]
  },
  {
   "cell_type": "code",
   "execution_count": null,
   "metadata": {},
   "outputs": [],
   "source": [
    "from os import listdir\n",
    "from os.path import isfile, join\n",
    "all_files = {i:f for i,f in enumerate(listdir('Real_flowsheets/DWSim_pickle_files')) if isfile(join('Real_flowsheets/DWSim_pickle_files', f))}\n",
    "all_images = {i:f for i,f in enumerate(listdir('Real_flowsheets/images')) if isfile(join('Real_flowsheets/images', f))}\n",
    "    "
   ]
  },
  {
   "cell_type": "code",
   "execution_count": null,
   "metadata": {},
   "outputs": [],
   "source": [
    "import re\n",
    "all_sfiles = {}\n",
    "for i,f in all_files.items():\n",
    "    # read pickle files and restructure names \n",
    "    G = nx.read_gpickle(join('Real_flowsheets/DWSim_pickle_files', f) )\n",
    "    _node_names = list(G.nodes)\n",
    "    relabel_mapping = {}\n",
    "    for n in _node_names:\n",
    "        r = re.compile(\"([a-zA-Z]+)([0-9]+)\")\n",
    "        _full_name = r.match(n).groups()\n",
    "        _name = _full_name[0] # name without number\n",
    "        _num = _full_name[1]\n",
    "        relabel_mapping[n] = _name +'-'+ _num\n",
    "    G = nx.relabel_nodes(G, relabel_mapping)\n",
    "\n",
    "    # load graph as flowsheet class object\n",
    "    flowsheet = Flowsheet(OntoCapeConformity=True)\n",
    "    flowsheet.state = G\n",
    "    # convert to sfiles (+ -> graph -> sfiles)\n",
    "    flowsheet.convert_to_sfiles(version='v2', remove_hex_tags=True)\n",
    "    sfiles_1 = flowsheet.sfiles\n",
    "    all_sfiles[i]=sfiles_1\n",
    "    flowsheet.create_from_sfiles(override_nx=True, merge_HI_nodes=False)\n",
    "    flowsheet.convert_to_sfiles(version='v2', remove_hex_tags=True)\n",
    "    sfiles_2=flowsheet.sfiles\n",
    "    print(sfiles_1 == sfiles_2)"
   ]
  },
  {
   "cell_type": "markdown",
   "metadata": {},
   "source": [
    "## Flowsheet images and SFILES 2.0 from simulation files"
   ]
  },
  {
   "cell_type": "markdown",
   "metadata": {},
   "source": [
    "Comments:\n",
    "- Initial node for flowsheet graph traversal (first raw node in SFILES 2.0 string) is marked red in image\n",
    "- Example NaturalGasProcessing: First flash bottom outlet was zero in simulation file and is not stored as prod node in graph\n",
    "- Modify i in range [0,8] to look at 9 different examples"
   ]
  },
  {
   "cell_type": "code",
   "execution_count": null,
   "metadata": {},
   "outputs": [],
   "source": [
    "i=4\n",
    "# Name\n",
    "print('_'.join(all_files[i].split(sep='_')[2:]).split(sep='.')[0])\n",
    "# SFILES\n",
    "print(all_sfiles[i])\n",
    "# Image\n",
    "Image(filename=join('Real_flowsheets/images',all_images[i]))"
   ]
  },
  {
   "cell_type": "code",
   "execution_count": null,
   "metadata": {},
   "outputs": [],
   "source": []
  }
 ],
 "metadata": {
  "interpreter": {
   "hash": "79be6018ba69c84da002e7747ede97852531fdbc935702ce18590f4791594f3d"
  },
  "kernelspec": {
   "display_name": "Python 3.9.12 ('SFILES2')",
   "language": "python",
   "name": "python3"
  },
  "language_info": {
   "codemirror_mode": {
    "name": "ipython",
    "version": 3
   },
   "file_extension": ".py",
   "mimetype": "text/x-python",
   "name": "python",
   "nbconvert_exporter": "python",
   "pygments_lexer": "ipython3",
   "version": "3.9.12"
  },
  "orig_nbformat": 4
 },
 "nbformat": 4,
 "nbformat_minor": 2
}
